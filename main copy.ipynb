{
  "cells": [
    {
      "cell_type": "code",
      "execution_count": 35,
      "metadata": {
        "id": "BEYil2OCpcCI"
      },
      "outputs": [],
      "source": [
        "# Dataset - https://www.kaggle.com/datasets/salader/dogs-vs-cats"
      ]
    },
    {
      "cell_type": "code",
      "execution_count": 36,
      "metadata": {
        "colab": {
          "base_uri": "https://localhost:8080/",
          "height": 339
        },
        "id": "dRq_DVNNp7T-",
        "outputId": "431c89ec-9333-4fa0-a8fe-8c1af5c22251"
      },
      "outputs": [],
      "source": [
        "import zipfile\n",
        "zip_ref = zipfile.ZipFile('./content/archive.zip', 'r')\n",
        "zip_ref.extractall('./content')\n",
        "zip_ref.close()"
      ]
    },
    {
      "cell_type": "markdown",
      "metadata": {},
      "source": [
        "### Resize de imagenes\n",
        "- También se eliminan los archivos corruptos\n",
        "- Se cambia el formato a png "
      ]
    },
    {
      "cell_type": "code",
      "execution_count": 37,
      "metadata": {},
      "outputs": [],
      "source": [
        "import os\n",
        "import cv2\n",
        "IMG_SIZE = 100\n",
        "scale_percent = 50\n",
        "\n",
        "cat_path = './content/PetImages/Cat/'\n",
        "catfiles = [f for f in os.listdir(cat_path) if f[-4:] == '.jpg']\n",
        "\n",
        "for img in catfiles:\n",
        "    img_path = cat_path + img\n",
        "    img_arr = cv2.imread(img_path)\n",
        "    if img_arr is None:\n",
        "        os.remove(img_path)\n",
        "        continue\n",
        "    output = cv2.resize(img_arr, (IMG_SIZE, IMG_SIZE))\n",
        "    # width = int(img_arr.shape[1] * scale_percent / 100)\n",
        "    # height = int(img_arr.shape[0] * scale_percent / 100)\n",
        "\n",
        "    # dsize\n",
        "    # dsize = (width, height)\n",
        "    # output = cv2.resize(img_arr, dsize)\n",
        "    out_path = cat_path + img[:-3] + 'png'\n",
        "    os.remove(img_path)\n",
        "    cv2.imwrite(out_path, output)\n",
        "\n",
        "dog_path = './content/PetImages/Dog/'\n",
        "catfiles = [f for f in os.listdir(dog_path) if f[-4:] == '.jpg']\n",
        "\n",
        "for img in catfiles:\n",
        "    img_path = dog_path + img\n",
        "    img_arr = cv2.imread(img_path)\n",
        "    if img_arr is None:\n",
        "        os.remove(img_path)\n",
        "        continue\n",
        "\n",
        "    cv2.resize(img_arr, (IMG_SIZE, IMG_SIZE))\n",
        "    out_path = dog_path + img[:-3] + 'png'\n",
        "    cv2.imwrite(out_path, img_arr)\n",
        "    os.remove(img_path)\n"
      ]
    },
    {
      "cell_type": "markdown",
      "metadata": {},
      "source": [
        "### Train - Test Split"
      ]
    },
    {
      "cell_type": "code",
      "execution_count": 42,
      "metadata": {},
      "outputs": [
        {
          "data": {
            "text/plain": [
              "\"\\n# ---- Dog Files ----\\n# get cat image filenames\\ndogfiles = [f for f in os.listdir('./content/PetImages/Dog/') if f[-4:] == '.png']\\n\\nlimit = len(dogfiles)\\ntrain_indexes = []\\n\\n# Get random 20%\\nfor _ in range(int(limit * 0.2)):\\n    random_num = random.randint(0, limit - 1)\\n    while random_num in train_indexes:\\n        random_num = random.randint(0, limit - 1)\\n  \\n    train_indexes.append(random_num)\\n\\nto_move = [dogfiles[index] for index in train_indexes]\\n\\n# Move test images\\nfor img in to_move:\\n    shutil.move(f'./content/PetImages/Dog/{img}', f'./content/test/Dog/{img}')\\n\\n# Move train images\\nimages = [f for f in os.listdir('./content/PetImages/Dog/') if f[-4:] == '.png']\\n\\nfor image in images:\\n    new_path = './content/train/Dog/' + image\\n    shutil.move('./content/PetImages/Dog/' + image, new_path)\\n\""
            ]
          },
          "execution_count": 42,
          "metadata": {},
          "output_type": "execute_result"
        }
      ],
      "source": [
        "\n",
        "import random\n",
        "import shutil\n",
        "\n",
        "# make new folders for test and train\n",
        "os.mkdir('./content/train')\n",
        "os.mkdir('./content/train/Cat')\n",
        "os.mkdir('./content/train/Dog')\n",
        "os.mkdir('./content/test')\n",
        "os.mkdir('./content/test/Cat')\n",
        "os.mkdir('./content/test/Dog')\n",
        "\n",
        "# ---- Cat Files ----\n",
        "# get cat image filenames\n",
        "catfiles = [f for f in os.listdir('./content/PetImages/Cat/') if f[-4:] == '.png']\n",
        "\n",
        "limit = len(catfiles)\n",
        "print('limit', limit)\n",
        "train_indexes = []\n",
        "\n",
        "# Get random 20%\n",
        "for _ in range(int(limit * 0.2)):\n",
        "    random_num = random.randint(0, limit - 1)\n",
        "    while random_num in train_indexes:\n",
        "        random_num = random.randint(0, limit - 1)\n",
        "  \n",
        "    print(random_num)\n",
        "    train_indexes.append(random_num)\n",
        "\n",
        "to_move = [catfiles[index] for index in train_indexes]\n",
        "\n",
        "catfiles = [f for f in os.listdir('./content/PetImages/Cat/') if f[-4:] == '.png']\n",
        "\n",
        "# Move test images\n",
        "for img in catfiles:\n",
        "    shutil.move(f'./content/PetImages/Cat/{img}', f'./content/test/Cat/{img}')\n",
        "\n",
        "# Move train images\n",
        "images = [f for f in os.listdir('./content/PetImages/Cat/') if f[-4:] == '.png']\n",
        "for image in images:\n",
        "    new_path = './content/train/Cat/' + image\n",
        "    shutil.move('./content/PetImages/Cat/' + image, new_path)\n",
        "\n",
        "# ---- Dog Files ----\n",
        "# get cat image filenames\n",
        "dogfiles = [f for f in os.listdir('./content/PetImages/Dog/') if f[-4:] == '.png']\n",
        "\n",
        "limit = len(dogfiles)\n",
        "train_indexes = []\n",
        "\n",
        "# Get random 20%\n",
        "for _ in range(int(limit * 0.2)):\n",
        "    random_num = random.randint(0, limit - 1)\n",
        "    while random_num in train_indexes:\n",
        "        random_num = random.randint(0, limit - 1)\n",
        "  \n",
        "    train_indexes.append(random_num)\n",
        "\n",
        "to_move = [dogfiles[index] for index in train_indexes]\n",
        "\n",
        "# Move test images\n",
        "for img in to_move:\n",
        "    shutil.move(f'./content/PetImages/Dog/{img}', f'./content/test/Dog/{img}')\n",
        "\n",
        "# Move train images\n",
        "images = [f for f in os.listdir('./content/PetImages/Dog/') if f[-4:] == '.png']\n",
        "\n",
        "for image in images:\n",
        "    new_path = './content/train/Dog/' + image\n",
        "    shutil.move('./content/PetImages/Dog/' + image, new_path)\n"
      ]
    },
    {
      "attachments": {},
      "cell_type": "markdown",
      "metadata": {
        "id": "6SQkgCU1CbDu"
      },
      "source": [
        "# Nueva sección"
      ]
    },
    {
      "cell_type": "code",
      "execution_count": 43,
      "metadata": {
        "id": "HLjhKoPuqLL1"
      },
      "outputs": [],
      "source": [
        "import tensorflow as tf\n",
        "from tensorflow import keras\n",
        "from keras import Sequential\n",
        "from keras.layers import Dense,Conv2D,MaxPooling2D,Flatten,BatchNormalization,Dropout"
      ]
    },
    {
      "cell_type": "code",
      "execution_count": 44,
      "metadata": {
        "id": "-f2dkRxXqobD"
      },
      "outputs": [
        {
          "name": "stdout",
          "output_type": "stream",
          "text": [
            "Found 9976 files belonging to 2 classes.\n",
            "Found 14970 files belonging to 2 classes.\n"
          ]
        }
      ],
      "source": [
        "IMG_SIZE = 100\n",
        "\n",
        "# generators\n",
        "train_ds = keras.utils.image_dataset_from_directory(\n",
        "    directory = './content/train',\n",
        "    labels='inferred',\n",
        "    label_mode = 'int',\n",
        "    batch_size=32,\n",
        "    image_size=(IMG_SIZE,IMG_SIZE)\n",
        ")\n",
        "\n",
        "validation_ds = keras.utils.image_dataset_from_directory(\n",
        "    directory = './content/test',\n",
        "    labels='inferred',\n",
        "    label_mode = 'int',\n",
        "    batch_size=32,\n",
        "    image_size=(IMG_SIZE,IMG_SIZE)\n",
        ")"
      ]
    },
    {
      "cell_type": "code",
      "execution_count": 45,
      "metadata": {
        "id": "2H94lUTyr_Rd"
      },
      "outputs": [],
      "source": [
        "# Normalize\n",
        "def process(image,label):\n",
        "    image = tf.cast(image/IMG_SIZE, tf.float32)\n",
        "    return image,label\n",
        "\n",
        "train_ds = train_ds.map(process)\n",
        "validation_ds = validation_ds.map(process)"
      ]
    },
    {
      "cell_type": "code",
      "execution_count": 46,
      "metadata": {
        "id": "_FcGcmkescVi"
      },
      "outputs": [],
      "source": [
        "# create CNN model\n",
        "\n",
        "model = Sequential()\n",
        "\n",
        "model.add(Conv2D(32,kernel_size=(3,3),padding='valid',activation='relu',input_shape=(IMG_SIZE,IMG_SIZE,3)))\n",
        "model.add(BatchNormalization())\n",
        "model.add(MaxPooling2D(pool_size=(2,2),strides=2,padding='valid'))\n",
        "\n",
        "model.add(Conv2D(64,kernel_size=(3,3),padding='valid',activation='relu'))\n",
        "model.add(BatchNormalization())\n",
        "model.add(MaxPooling2D(pool_size=(2,2),strides=2,padding='valid'))\n",
        "\n",
        "model.add(Conv2D(128,kernel_size=(3,3),padding='valid',activation='relu'))\n",
        "model.add(BatchNormalization())\n",
        "model.add(MaxPooling2D(pool_size=(2,2),strides=2,padding='valid'))\n",
        "\n",
        "model.add(Flatten())\n",
        "\n",
        "model.add(Dense(128,activation='relu'))\n",
        "model.add(Dropout(0.1))\n",
        "model.add(Dense(64,activation='relu'))\n",
        "model.add(Dropout(0.1))\n",
        "model.add(Dense(1,activation='sigmoid'))"
      ]
    },
    {
      "cell_type": "code",
      "execution_count": 47,
      "metadata": {
        "id": "7aJZyq2Ltdno"
      },
      "outputs": [
        {
          "name": "stdout",
          "output_type": "stream",
          "text": [
            "Model: \"sequential_1\"\n",
            "_________________________________________________________________\n",
            " Layer (type)                Output Shape              Param #   \n",
            "=================================================================\n",
            " conv2d_3 (Conv2D)           (None, 98, 98, 32)        896       \n",
            "                                                                 \n",
            " batch_normalization_3 (Batc  (None, 98, 98, 32)       128       \n",
            " hNormalization)                                                 \n",
            "                                                                 \n",
            " max_pooling2d_3 (MaxPooling  (None, 49, 49, 32)       0         \n",
            " 2D)                                                             \n",
            "                                                                 \n",
            " conv2d_4 (Conv2D)           (None, 47, 47, 64)        18496     \n",
            "                                                                 \n",
            " batch_normalization_4 (Batc  (None, 47, 47, 64)       256       \n",
            " hNormalization)                                                 \n",
            "                                                                 \n",
            " max_pooling2d_4 (MaxPooling  (None, 23, 23, 64)       0         \n",
            " 2D)                                                             \n",
            "                                                                 \n",
            " conv2d_5 (Conv2D)           (None, 21, 21, 128)       73856     \n",
            "                                                                 \n",
            " batch_normalization_5 (Batc  (None, 21, 21, 128)      512       \n",
            " hNormalization)                                                 \n",
            "                                                                 \n",
            " max_pooling2d_5 (MaxPooling  (None, 10, 10, 128)      0         \n",
            " 2D)                                                             \n",
            "                                                                 \n",
            " flatten_1 (Flatten)         (None, 12800)             0         \n",
            "                                                                 \n",
            " dense_3 (Dense)             (None, 128)               1638528   \n",
            "                                                                 \n",
            " dropout_2 (Dropout)         (None, 128)               0         \n",
            "                                                                 \n",
            " dense_4 (Dense)             (None, 64)                8256      \n",
            "                                                                 \n",
            " dropout_3 (Dropout)         (None, 64)                0         \n",
            "                                                                 \n",
            " dense_5 (Dense)             (None, 1)                 65        \n",
            "                                                                 \n",
            "=================================================================\n",
            "Total params: 1,740,993\n",
            "Trainable params: 1,740,545\n",
            "Non-trainable params: 448\n",
            "_________________________________________________________________\n"
          ]
        }
      ],
      "source": [
        "model.summary()"
      ]
    },
    {
      "cell_type": "code",
      "execution_count": 48,
      "metadata": {
        "id": "SL-E5k_5tf9N"
      },
      "outputs": [],
      "source": [
        "model.compile(optimizer='adam',loss='binary_crossentropy',metrics=['accuracy'])"
      ]
    },
    {
      "cell_type": "code",
      "execution_count": 49,
      "metadata": {
        "id": "HHBFNFHCtzLu"
      },
      "outputs": [
        {
          "name": "stdout",
          "output_type": "stream",
          "text": [
            "312/312 [==============================] - 401s 1s/step - loss: 0.0055 - accuracy: 0.9970 - val_loss: 46.9016 - val_accuracy: 0.1674\n"
          ]
        }
      ],
      "source": [
        "history = model.fit(train_ds,epochs=2,validation_data=validation_ds)"
      ]
    },
    {
      "cell_type": "code",
      "execution_count": 50,
      "metadata": {
        "id": "GLXWhpapuAuV"
      },
      "outputs": [
        {
          "data": {
            "image/png": "[encoded data removed]",
            "text/plain": [
              "<Figure size 432x288 with 1 Axes>"
            ]
          },
          "metadata": {
            "needs_background": "light"
          },
          "output_type": "display_data"
        }
      ],
      "source": [
        "import matplotlib.pyplot as plt\n",
        "\n",
        "plt.plot(history.history['accuracy'],color='red',label='train')\n",
        "plt.plot(history.history['val_accuracy'],color='blue',label='validation')\n",
        "plt.legend()\n",
        "plt.show()"
      ]
    },
    {
      "cell_type": "code",
      "execution_count": 51,
      "metadata": {
        "id": "VSm7TIfO7Ve0"
      },
      "outputs": [
        {
          "data": {
            "image/png": "[encoded data removed]",
            "text/plain": [
              "<Figure size 432x288 with 1 Axes>"
            ]
          },
          "metadata": {
            "needs_background": "light"
          },
          "output_type": "display_data"
        }
      ],
      "source": [
        "plt.plot(history.history['accuracy'],color='red',label='train')\n",
        "plt.plot(history.history['val_accuracy'],color='blue',label='validation')\n",
        "plt.legend()\n",
        "plt.show()"
      ]
    },
    {
      "cell_type": "code",
      "execution_count": 52,
      "metadata": {
        "id": "wgG1voHM2rlf"
      },
      "outputs": [
        {
          "data": {
            "image/png": "[encoded data removed]",
            "text/plain": [
              "<Figure size 432x288 with 1 Axes>"
            ]
          },
          "metadata": {
            "needs_background": "light"
          },
          "output_type": "display_data"
        }
      ],
      "source": [
        "plt.plot(history.history['loss'],color='red',label='train')\n",
        "plt.plot(history.history['val_loss'],color='blue',label='validation')\n",
        "plt.legend()\n",
        "plt.show()"
      ]
    },
    {
      "cell_type": "code",
      "execution_count": 53,
      "metadata": {
        "id": "KvbfHPut7Zer"
      },
      "outputs": [
        {
          "data": {
            "image/png": "[encoded data removed]",
            "text/plain": [
              "<Figure size 432x288 with 1 Axes>"
            ]
          },
          "metadata": {
            "needs_background": "light"
          },
          "output_type": "display_data"
        }
      ],
      "source": [
        "plt.plot(history.history['loss'],color='red',label='train')\n",
        "plt.plot(history.history['val_loss'],color='blue',label='validation')\n",
        "plt.legend()\n",
        "plt.show()"
      ]
    },
    {
      "cell_type": "code",
      "execution_count": null,
      "metadata": {
        "id": "1NgMfTQk2-bj"
      },
      "outputs": [],
      "source": [
        "# ways to reduce overfitting\n",
        "\n",
        "# Add more data\n",
        "# Data Augmentation -> next video\n",
        "# L1/L2 Regularizer\n",
        "# Dropout\n",
        "# Batch Norm\n",
        "# Reduce complexity"
      ]
    },
    {
      "cell_type": "code",
      "execution_count": 54,
      "metadata": {
        "id": "x4qNNsN28GTc"
      },
      "outputs": [],
      "source": [
        "import cv2"
      ]
    },
    {
      "cell_type": "code",
      "execution_count": null,
      "metadata": {
        "id": "BU3N6vPQ8z_t"
      },
      "outputs": [],
      "source": [
        "test_img = cv2.imread('/content/cat.jpg')"
      ]
    },
    {
      "cell_type": "code",
      "execution_count": null,
      "metadata": {
        "id": "gsiIWUQO88TH"
      },
      "outputs": [],
      "source": [
        "plt.imshow(test_img)"
      ]
    },
    {
      "cell_type": "code",
      "execution_count": null,
      "metadata": {
        "id": "R-IOidqx8_wv"
      },
      "outputs": [],
      "source": [
        "test_img.shape"
      ]
    },
    {
      "cell_type": "code",
      "execution_count": null,
      "metadata": {
        "id": "bbhZpyb29OPB"
      },
      "outputs": [],
      "source": [
        "test_img = cv2.resize(test_img,(256,256))"
      ]
    },
    {
      "cell_type": "code",
      "execution_count": null,
      "metadata": {
        "id": "G1LvBs8J9Qlc"
      },
      "outputs": [],
      "source": [
        "test_input = test_img.reshape((1,256,256,3))"
      ]
    },
    {
      "cell_type": "code",
      "execution_count": null,
      "metadata": {
        "id": "syGMbjmU9grR"
      },
      "outputs": [],
      "source": [
        "model.predict(test_input)"
      ]
    },
    {
      "cell_type": "code",
      "execution_count": null,
      "metadata": {
        "id": "nRkIkniZ9mOI"
      },
      "outputs": [],
      "source": []
    }
  ],
  "metadata": {
    "accelerator": "GPU",
    "colab": {
      "provenance": []
    },
    "kernelspec": {
      "display_name": "Python 3",
      "name": "python3"
    },
    "language_info": {
      "codemirror_mode": {
        "name": "ipython",
        "version": 3
      },
      "file_extension": ".py",
      "mimetype": "text/x-python",
      "name": "python",
      "nbconvert_exporter": "python",
      "pygments_lexer": "ipython3",
      "version": "3.10.1"
    }
  },
  "nbformat": 4,
  "nbformat_minor": 0
}
